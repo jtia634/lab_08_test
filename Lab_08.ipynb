{
 "cells": [
  {
   "cell_type": "code",
   "execution_count": 1,
   "metadata": {},
   "outputs": [],
   "source": [
    "import findspark\n",
    "findspark.init('/home/ubuntu/spark-2.1.1-bin-hadoop2.7')\n",
    "import pyspark\n",
    "from pyspark.sql import SparkSession\n",
    "spark = SparkSession.builder.appName('lab_722_jtia634').getOrCreate()"
   ]
  },
  {
   "cell_type": "code",
   "execution_count": 5,
   "metadata": {},
   "outputs": [],
   "source": [
    "df = spark.read.load(\"./Crash_Analysis_System_CAS_data.csv\", format = \"csv\", header = \"true\")"
   ]
  },
  {
   "cell_type": "code",
   "execution_count": 6,
   "metadata": {},
   "outputs": [
    {
     "name": "stdout",
     "output_type": "stream",
     "text": [
      "+-----------+-------+--------+-------------+-------+----------+-------+------+---+---------------+---------+-------------------------+-------------+------------------+--------------------+--------------------+----------------+------------------+---------+------+------------------------+-----+-------+----------+-----+---------+---------+------------------+---------------+--------------------+-------------+----+----------+-----------+----------------+-----+----------+--------+-------------+---------------------+-----------+----------------+---------------------------+--------+-------------+----------+-----------+----------+--------------------+-------------+-------------+--------+------------+-----------+---------+---------+------------------+-----------+----------+-----------+-----------+---+----+-------------------+-----+--------------------+---------------+-------------+-----------+-----+----+-----+------------------+-----+------------+-------+----------+----------+--------+\n",
      "|          X|      Y|OBJECTID|advisorySpeed|animals|areaUnitID|bicycle|bridge|bus|carStationWagon|cliffBank|crashDirectionDescription|crashDistance|crashFinancialYear|      crashLocation1|      crashLocation2|   crashSeverity|crashSHDescription|crashYear|debris|directionRoleDescription|ditch|easting|fatalCount|fence| flatHill|guardRail|           holiday|houseOrBuilding|intersectionMidblock| junctionType|kerb|     light|meshblockId|minorInjuryCount|moped|motorcycle|northing|NumberOfLanes|objectThrownOrDropped|otherObject|otherVehicleType|outdatedLocationDescription|overBank|parkedVehicle|pedestrian|phoneBoxEtc|postOrPole|              region|roadCharacter|roadCurvature|roadLane|roadMarkings|roadSurface|roadworks|schoolBus|seriousInjuryCount|slipOrFlood|speedLimit|strayAnimal|streetLight|suv|taxi|temporarySpeedLimit|tlaId|             tlaName| trafficControl|trafficIsland|trafficSign|train|tree|truck|unknownVehicleType|urban|vanOrUtility|vehicle|waterRiver|  weatherA|weatherB|\n",
      "+-----------+-------+--------+-------------+-------+----------+-------+------+---+---------------+---------+-------------------------+-------------+------------------+--------------------+--------------------+----------------+------------------+---------+------+------------------------+-----+-------+----------+-----+---------+---------+------------------+---------------+--------------------+-------------+----+----------+-----------+----------------+-----+----------+--------+-------------+---------------------+-----------+----------------+---------------------------+--------+-------------+----------+-----------+----------+--------------------+-------------+-------------+--------+------------+-----------+---------+---------+------------------+-----------+----------+-----------+-----------+---+----+-------------------+-----+--------------------+---------------+-------------+-----------+-----+----+-----+------------------+-----+------------+-------+----------+----------+--------+\n",
      "|2442006.559|5077559|    1001|         null|      0|    597000|      0|     0|  0|              1|        1|                     East|         4600|              2004|WAITANGI WHARF - ...|          NORTH ROAD|     Minor Crash|                No|     2004|     0|                    East|    0|2442006|         0|    0|Hill Road|        0|              null|              0|            Midblock|Nil (Default)|   0|  Twilight|    2717400|               1|    0|         0| 5077558|            2|                    0|          1|               0|           Current location|       0|            0|      null|          0|         0|   Wellington Region|          Nil|     Straight|   2-way|        null|   Unsealed|        0|        0|                 0|          0|       100|          0|       None|  0|   0|               null|   67|Chatham Islands T...|            Nil|            0|          0|    0|   0|    0|                 0| Open|           0|      0|         0|      Fine|    Null|\n",
      "|    1883922|5774047|    1002|         null|   null|    540410|      0|  null|  0|              2|     null|                     Null|         null|              2005|              SH 30A|         TAREWA ROAD|Non-Injury Crash|               Yes|     2004|  null|                    East| null|1883922|         0| null|     Flat|     null|              null|           null|        Intersection|   T Junction|null|  Overcast|    1231900|               0|    0|         0| 5774047|            4|                 null|       null|               0|           Current location|    null|         null|      null|       null|      null|Bay of Plenty Region|          Nil|     Straight|   2-way|        null|     Sealed|     null|        0|                 0|       null|        50|       null|        Off|  0|   0|               null|   24|    Rotorua District|       Give way|         null|       null| null|null|    0|                 0|Urban|           0|   null|      null|Light rain|    Null|\n",
      "|    1760533|5915602|    1003|         null|   null|    520201|      0|  null|  0|              2|     null|                    South|          200|              2010|               SH 1N|   GREENLANE OFF NBD|     Minor Crash|               Yes|     2009|  null|                   North| null|1760533|         0| null|     Flat|     null|              null|           null|            Midblock|Nil (Default)|null|  Overcast|     613000|               1|    0|         0| 5915602|            4|                 null|       null|               0|           Current location|    null|         null|      null|       null|      null|     Auckland Region|          Nil|     Straight|   2-way|        null|     Sealed|     null|        0|                 0|       null|       100|       null|        Off|  1|   0|               null|   76|            Auckland|            Nil|         null|       null| null|null|    1|                 0| Open|           0|   null|      null|Light rain|    Null|\n",
      "|    1754996|5935872|    1004|         null|   null|    507101|      0|  null|500|              1|     null|                     Null|         null|              2016|       CARLISLE ROAD|        LIMMER PLACE|     Minor Crash|                No|     2016|  null|                    West| null|1754996|         0| null|     Flat|     null|              null|           null|        Intersection|   T Junction|null|  Overcast|     159601|               1|    0|         0| 5935872|            2|                 null|       null|               0|           Current location|    null|         null|      null|       null|      null|     Auckland Region|          Nil|       Curved|   2-way|        null|     Sealed|     null|        0|                 0|       null|        50|       null|       Null|  1|   0|               null|   76|            Auckland|       Give way|         null|       null| null|null|    0|                 0|Urban|           0|   null|      null|      Fine|    Null|\n",
      "|    1764335|5914721|    1005|         null|   null|    520303|      0|  null|  0|              1|     null|                    South|          200|              2015|MOUNT WELLINGTON ...|ELLERSLIE-PANMURE...|     Minor Crash|                No|     2014|  null|                   North| null|1764335|         0| null|     Flat|     null|              null|           null|            Midblock|Nil (Default)|null|Bright sun|     627400|               1|    0|         0| 5914721|            4|                 null|       null|               0|           Current location|    null|         null|      null|       null|      null|     Auckland Region|          Nil|     Straight|   2-way|        null|     Sealed|     null|        0|                 0|       null|        50|       null|       Null|  0|   0|               null|   76|            Auckland|        Unknown|         null|       null| null|null|    1|                 0|Urban|           0|   null|      null|      Fine|    Null|\n",
      "|1772048.716|5473095|    1006|         null|      0|    563705|      0|     0|  0|              2|        0|                    South|           60|              2019|       TE MOANA ROAD|       WALTON AVENUE|Non-Injury Crash|                No|     2019|     0|                    West|    0|1772048|         0|    0|     Flat|        0|              null|              0|            Midblock|Nil (Default)|   0|      Dark|    1877001|               0|    0|         0| 5473095|            2|                    0|          0|               0|           Current location|       0|            1|      null|          0|         0|   Wellington Region|          Nil|     Straight|   2-way|        null|     Sealed|        0|        0|                 0|          0|        50|          0|         On|  0|   0|               null|   43|Kapiti Coast Dist...|        Unknown|            0|          0|    0|   0|    0|                 0|Urban|           0|      0|         0|      Fine|    Null|\n",
      "|    1802086|5816828|    1007|         null|   null|    530000|      0|  null|  0|              3|     null|                    North|            5|              2007|     PEACHGROVE ROAD|     ENDERLEY AVENUE|Non-Injury Crash|                No|     2007|  null|                   North| null|1802086|         0| null|     Flat|     null|              null|           null|        Intersection|   T Junction|null|Bright sun|     867400|               0|    0|         0| 5816828|            2|                 null|       null|               0|           Current location|    null|         null|      null|       null|      null|      Waikato Region|          Nil|     Straight|   2-way|        null|     Sealed|     null|        0|                 0|       null|        50|       null|        Off|  0|   0|               null|   16|       Hamilton City|            Nil|         null|       null| null|null|    0|                 0|Urban|           0|   null|      null|      Fine|    Null|\n",
      "|    1756039|5921073|    1008|         null|   null|    515202|      0|  null|  0|              1|     null|                     West|           20|              2018|               SH 1N|    FANSHAWE OFF SBD|Non-Injury Crash|               Yes|     2018|  null|                    East| null|1756039|         0| null|     Flat|     null|              null|           null|            Midblock|   T Junction|null|Bright sun|     425600|               0|    0|         0| 5921073|            4|                 null|       null|               0|           Current location|    null|         null|      null|       null|      null|     Auckland Region|          Nil|       Curved|   1-way|        null|     Sealed|     null|        0|                 0|       null|        80|       null|       Null|  0|   0|               null|   76|            Auckland|            Nil|         null|       null| null|null|    0|                 0| Open|           1|   null|      null|      Fine|    Null|\n",
      "|    1752708|5926938|    1009|         null|      0|    508220|      0|     0|  0|              2|        0|                     East|           15|              2019|    VALLEY VIEW ROAD|       BRUNTON PLACE|Non-Injury Crash|                No|     2018|     0|                    East|    0|1752708|         0|    0|Hill Road|        0|              null|              0|        Intersection|Nil (Default)|   0|Bright sun|     188100|               0|    0|         0| 5926938|            2|                    0|          0|               0|           Current location|       0|            1|      null|          0|         0|     Auckland Region|          Nil|       Curved|   2-way|        null|     Sealed|        0|        0|                 0|          0|        50|          0|       Null|  0|   0|               null|   76|            Auckland|        Unknown|            0|          0|    0|   0|    0|                 0|Urban|           0|      0|         0|      Fine|    Null|\n",
      "|    1862342|5749362|    1010|         null|      0|    535262|      0|     0|  0|              1|        0|                    North|          100|              2011|               SH 1N|       HUMPHREY ROAD|     Minor Crash|               Yes|     2011|     0|                   South|    0|1862342|         0|    0|Hill Road|        1|              null|              0|            Midblock|Nil (Default)|   0|Bright sun|    1151902|               1|    0|         0| 5749362|            2|                    0|          0|               0|           Current location|       0|            0|      null|          0|         0|      Waikato Region|          Nil|       Curved|   2-way|        null|     Sealed|        0|        0|                 0|          0|       100|          0|       Null|  0|   0|               null|   19|South Waikato Dis...|        Unknown|            0|          0|    0|   0|    0|                 0| Open|           0|      0|         0|      Fine|    Null|\n",
      "|    1758390|5917478|    1011|         null|   null|    516001|      1|  null|  0|              1|     null|                    South|           10|              2009|            BROADWAY|        MANUKAU ROAD|     Minor Crash|                No|     2009|  null|                   North| null|1758390|         0| null|Hill Road|     null|              null|           null|        Intersection|   Crossroads|null|      Dark|     490800|               1|    0|         0| 5917478|            2|                 null|       null|               0|           Current location|    null|         null|      null|       null|      null|     Auckland Region|          Nil|     Straight|   2-way|        null|     Sealed|     null|        0|                 0|       null|        50|       null|         On|  0|   0|               null|   76|            Auckland|            Nil|         null|       null| null|null|    0|                 0|Urban|           0|   null|      null|Heavy rain|    Null|\n",
      "| 1199365.29|4887436|    1012|           55|   null|    612730|      0|  null|  0|              1|     null|                     East|           62|              2019|         DEVERY ROAD|                null|Non-Injury Crash|                No|     2019|  null|                    East| null|1199365|         0| null|     Flat|     null|              null|           null|            Midblock|   T Junction|null|Bright sun|    3193800|               0|    0|         0| 4887435|            2|                 null|       null|               0|           Current location|    null|         null|      null|       null|      null|    Southland Region|          Nil|       Curved|   2-way|        null|     Sealed|     null|        0|                 0|       null|       100|       null|       None|  0|   0|               null|   73|  Southland District|       Give way|         null|       null| null|null|    0|                 0| Open|           0|   null|      null|      Fine|    Null|\n",
      "|    1753457|5439879|    1013|         null|   null|    572500|      0|  null|  0|             11|     null|                    North|          600|              2004|               SH 1N|         TAWA ON NBD|   Serious Crash|               Yes|     2003|  null|                   North| null|1753457|         0| null|     Flat|     null|              null|           null|            Midblock|Nil (Default)|null|Bright sun|    1986602|               1|    0|         0| 5439879|            3|                 null|       null|               0|           Current location|    null|         null|      null|       null|      null|   Wellington Region|          Nil|     Straight|   1-way|        null|     Sealed|     null|        0|                 1|       null|       100|       null|       Null|  0|   0|               null|   47|     Wellington City|            Nil|         null|       null| null|null|    0|                 0| Open|           4|   null|      null|      Fine|    Null|\n",
      "|    1935640|5620477|    1014|         null|      0|    546600|      0|     0|  0|              3|        0|                     West|           20|              2012|        KENNEDY ROAD|DOUGLAS MCLEAN AV...|Non-Injury Crash|                No|     2012|     0|                   South|    0|1935640|         0|    0|     Flat|        0|              null|              0|        Intersection|Nil (Default)|   0|Bright sun|    1435800|               0|    0|         0| 5620477|            1|                    0|          0|               0|           Current location|       0|            1|      null|          0|         0|  Hawke's Bay Region|          Nil|     Straight|   2-way|        null|     Sealed|        0|        0|                 0|          0|        50|          0|       Null|  0|   0|               null|   31|         Napier City|            Nil|            0|          0|    0|   0|    0|                 0|Urban|           0|      0|         0|      Fine|    Null|\n",
      "|    1755200|5917278|    1015|         null|      0|    517701|      0|     0|  0|              3|        0|                     East|           50|              2014|     BURNLEY TERRACE|    SANDRINGHAM ROAD|Non-Injury Crash|                No|     2014|     0|                    West|    0|1755200|         0|    0|     Flat|        0|              null|              0|            Midblock|Nil (Default)|   0|Bright sun|     536700|               0|    0|         0| 5917278|            2|                    0|          0|               0|           Current location|       0|            1|      null|          0|         0|     Auckland Region|          Nil|     Straight|   2-way|        null|     Sealed|        0|        0|                 0|          0|        50|          0|       Null|  0|   0|               null|   76|            Auckland|        Unknown|            0|          0|    0|   0|    0|                 0|Urban|           0|      0|         0|      Fine|    Null|\n",
      "|    1929521|5605677|    1016|         null|   null|    547700|      0|  null|  0|              1|     null|                    South|           20|              2005|        TOMOANA ROAD|    AVENUE ROAD WEST|     Minor Crash|                No|     2005|  null|                    East| null|1929521|         0| null|     Flat|     null|              null|           null|        Intersection|     Driveway|null|Bright sun|    1488000|               1|    0|         1| 5605677|            2|                 null|       null|               0|           Current location|    null|         null|      null|       null|      null|  Hawke's Bay Region|          Nil|     Straight|   2-way|        null|     Sealed|     null|        0|                 0|       null|        50|       null|       Null|  0|   0|               null|   30|   Hastings District|            Nil|         null|       null| null|null|    0|                 0|Urban|           0|   null|      null|      Fine|    Null|\n",
      "|    1759428|5908632|    1017|         null|   null|    524002|      0|  null|  0|              0|     null|                     Null|         null|              2006|     CORONATION ROAD|       MCKENZIE ROAD|Non-Injury Crash|                No|     2005|  null|                   North| null|1759428|         0| null|     Flat|     null|              null|           null|        Intersection|   Roundabout|null|Bright sun|     724700|               0|    0|         0| 5908632|            2|                 null|       null|               0|           Current location|    null|         null|      null|       null|      null|     Auckland Region|          Nil|       Curved|   2-way|        null|     Sealed|     null|        0|                 0|       null|        50|       null|        Off|  1|   0|               null|   76|            Auckland|       Give way|         null|       null| null|null|    0|                 0|Urban|           1|   null|      null|      Fine|    Null|\n",
      "|    1756132|5920549|    1018|         null|   null|    514102|      0|  null|  0|              3|     null|                    North|           10|              2001|         BEAUMONT ST|        COLLEGE HILL|Non-Injury Crash|                No|     2001|  null|                   North| null|1756132|         0| null|     Flat|     null|              null|           null|        Intersection|   T Junction|null|  Overcast|     432500|               0|    0|         0| 5920549|            4|                 null|       null|               0|           Current location|    null|         null|      null|       null|      null|     Auckland Region|          Nil|       Curved|   2-way|        null|     Sealed|     null|        0|                 0|       null|        50|       null|        Off|  0|   0|               null|   76|            Auckland|Traffic Signals|         null|       null| null|null|    1|                 0|Urban|           0|   null|      null|      Fine|    Null|\n",
      "|    1754254|5918542|    1019|         null|   null|    515431|      0|  null|  0|              2|     null|                     Null|         null|              2009|    GREAT NORTH ROAD|       BULLOCK TRACK|     Minor Crash|                No|     2009|  null|                   North| null|1754254|         0| null|     Flat|     null|              null|           null|        Intersection|   T Junction|null|Bright sun|     405000|               3|    0|         0| 5918542|            4|                 null|       null|               0|           Current location|    null|         null|      null|       null|      null|     Auckland Region|          Nil|     Straight|   2-way|        null|     Sealed|     null|        0|                 0|       null|        50|       null|        Off|  0|   0|               null|   76|            Auckland|           Stop|         null|       null| null|null|    0|                 0|Urban|           0|   null|      null|      Fine|    Null|\n",
      "|    1743895|5920904|    1020|         null|      0|    513632|      0|     0|  0|              2|        0|                     Null|         null|              2008|    ZITA MARIA DRIVE|          ANICH ROAD|Non-Injury Crash|                No|     2007|     0|                    East|    0|1743895|         0|    0|Hill Road|        0|Christmas New Year|              0|        Intersection|   T Junction|   0|  Overcast|     229300|               0|    0|         0| 5920904|            2|                    0|          0|               0|           Current location|       0|            1|      null|          0|         0|     Auckland Region|          Nil|     Straight|   2-way|        null|     Sealed|        0|        0|                 0|          0|        50|          0|        Off|  0|   0|               null|   76|            Auckland|            Nil|            0|          0|    0|   0|    0|                 0|Urban|           0|      0|         0|Light rain|    Null|\n",
      "+-----------+-------+--------+-------------+-------+----------+-------+------+---+---------------+---------+-------------------------+-------------+------------------+--------------------+--------------------+----------------+------------------+---------+------+------------------------+-----+-------+----------+-----+---------+---------+------------------+---------------+--------------------+-------------+----+----------+-----------+----------------+-----+----------+--------+-------------+---------------------+-----------+----------------+---------------------------+--------+-------------+----------+-----------+----------+--------------------+-------------+-------------+--------+------------+-----------+---------+---------+------------------+-----------+----------+-----------+-----------+---+----+-------------------+-----+--------------------+---------------+-------------+-----------+-----+----+-----+------------------+-----+------------+-------+----------+----------+--------+\n",
      "only showing top 20 rows\n",
      "\n"
     ]
    }
   ],
   "source": [
    "df.show()"
   ]
  },
  {
   "cell_type": "code",
   "execution_count": 7,
   "metadata": {},
   "outputs": [
    {
     "data": {
      "text/plain": [
       "['X',\n",
       " 'Y',\n",
       " 'OBJECTID',\n",
       " 'advisorySpeed',\n",
       " 'animals',\n",
       " 'areaUnitID',\n",
       " 'bicycle',\n",
       " 'bridge',\n",
       " 'bus',\n",
       " 'carStationWagon',\n",
       " 'cliffBank',\n",
       " 'crashDirectionDescription',\n",
       " 'crashDistance',\n",
       " 'crashFinancialYear',\n",
       " 'crashLocation1',\n",
       " 'crashLocation2',\n",
       " 'crashSeverity',\n",
       " 'crashSHDescription',\n",
       " 'crashYear',\n",
       " 'debris',\n",
       " 'directionRoleDescription',\n",
       " 'ditch',\n",
       " 'easting',\n",
       " 'fatalCount',\n",
       " 'fence',\n",
       " 'flatHill',\n",
       " 'guardRail',\n",
       " 'holiday',\n",
       " 'houseOrBuilding',\n",
       " 'intersectionMidblock',\n",
       " 'junctionType',\n",
       " 'kerb',\n",
       " 'light',\n",
       " 'meshblockId',\n",
       " 'minorInjuryCount',\n",
       " 'moped',\n",
       " 'motorcycle',\n",
       " 'northing',\n",
       " 'NumberOfLanes',\n",
       " 'objectThrownOrDropped',\n",
       " 'otherObject',\n",
       " 'otherVehicleType',\n",
       " 'outdatedLocationDescription',\n",
       " 'overBank',\n",
       " 'parkedVehicle',\n",
       " 'pedestrian',\n",
       " 'phoneBoxEtc',\n",
       " 'postOrPole',\n",
       " 'region',\n",
       " 'roadCharacter',\n",
       " 'roadCurvature',\n",
       " 'roadLane',\n",
       " 'roadMarkings',\n",
       " 'roadSurface',\n",
       " 'roadworks',\n",
       " 'schoolBus',\n",
       " 'seriousInjuryCount',\n",
       " 'slipOrFlood',\n",
       " 'speedLimit',\n",
       " 'strayAnimal',\n",
       " 'streetLight',\n",
       " 'suv',\n",
       " 'taxi',\n",
       " 'temporarySpeedLimit',\n",
       " 'tlaId',\n",
       " 'tlaName',\n",
       " 'trafficControl',\n",
       " 'trafficIsland',\n",
       " 'trafficSign',\n",
       " 'train',\n",
       " 'tree',\n",
       " 'truck',\n",
       " 'unknownVehicleType',\n",
       " 'urban',\n",
       " 'vanOrUtility',\n",
       " 'vehicle',\n",
       " 'waterRiver',\n",
       " 'weatherA',\n",
       " 'weatherB']"
      ]
     },
     "execution_count": 7,
     "metadata": {},
     "output_type": "execute_result"
    }
   ],
   "source": [
    "df.columns"
   ]
  },
  {
   "cell_type": "code",
   "execution_count": 9,
   "metadata": {},
   "outputs": [
    {
     "name": "stdout",
     "output_type": "stream",
     "text": [
      "+-------+------------------+------------------+------------------+------------------+-------------------+------------------+--------------------+-------------------+-------------------+------------------+-------------------+-------------------------+------------------+------------------+--------------+-----------------+-------------+------------------+------------------+--------------------+------------------------+-------------------+------------------+--------------------+-------------------+--------+-------------------+------------------+--------------------+--------------------+------------+--------------------+----------+-----------------+------------------+--------------------+------------------+------------------+------------------+---------------------+--------------------+--------------------+---------------------------+-------------------+-------------------+-------------------+--------------------+------------------+-----------------+-------------+-------------+--------+------------+-----------+--------------------+--------------------+-------------------+--------------------+------------------+--------------------+-----------+-------------------+--------------------+-------------------+------------------+------------------+--------------+--------------------+-------------------+--------------------+-------------------+-------------------+--------------------+------+-------------------+-------------------+--------------------+--------+-----------+\n",
      "|summary|                 X|                 Y|          OBJECTID|     advisorySpeed|            animals|        areaUnitID|             bicycle|             bridge|                bus|   carStationWagon|          cliffBank|crashDirectionDescription|     crashDistance|crashFinancialYear|crashLocation1|   crashLocation2|crashSeverity|crashSHDescription|         crashYear|              debris|directionRoleDescription|              ditch|           easting|          fatalCount|              fence|flatHill|          guardRail|           holiday|     houseOrBuilding|intersectionMidblock|junctionType|                kerb|     light|      meshblockId|  minorInjuryCount|               moped|        motorcycle|          northing|     NumberOfLanes|objectThrownOrDropped|         otherObject|    otherVehicleType|outdatedLocationDescription|           overBank|      parkedVehicle|         pedestrian|         phoneBoxEtc|        postOrPole|           region|roadCharacter|roadCurvature|roadLane|roadMarkings|roadSurface|           roadworks|           schoolBus| seriousInjuryCount|         slipOrFlood|        speedLimit|         strayAnimal|streetLight|                suv|                taxi|temporarySpeedLimit|             tlaId|           tlaName|trafficControl|       trafficIsland|        trafficSign|               train|               tree|              truck|  unknownVehicleType| urban|       vanOrUtility|            vehicle|          waterRiver|weatherA|   weatherB|\n",
      "+-------+------------------+------------------+------------------+------------------+-------------------+------------------+--------------------+-------------------+-------------------+------------------+-------------------+-------------------------+------------------+------------------+--------------+-----------------+-------------+------------------+------------------+--------------------+------------------------+-------------------+------------------+--------------------+-------------------+--------+-------------------+------------------+--------------------+--------------------+------------+--------------------+----------+-----------------+------------------+--------------------+------------------+------------------+------------------+---------------------+--------------------+--------------------+---------------------------+-------------------+-------------------+-------------------+--------------------+------------------+-----------------+-------------+-------------+--------+------------+-----------+--------------------+--------------------+-------------------+--------------------+------------------+--------------------+-----------+-------------------+--------------------+-------------------+------------------+------------------+--------------+--------------------+-------------------+--------------------+-------------------+-------------------+--------------------+------+-------------------+-------------------+--------------------+--------+-----------+\n",
      "|  count|            705587|            705587|            705824|             25540|             276105|            705586|              705819|             276105|             705819|            705819|             276105|                   705824|            451063|            705824|        705824|           705481|       705824|            705824|            705824|              276105|                  705714|             276105|            705587|              705823|             276105|  705824|             276105|             38548|              276105|              705824|      705824|              276105|    705824|           705586|            705823|              705819|            705819|            705587|            704692|               276105|              276105|              705819|                     705824|             276105|             276105|              22111|              276105|            276105|           705586|       705824|       705824|  705824|           0|     705824|              276105|              705819|             705823|              276105|            705450|              276105|     705824|             705819|              705819|               9051|            705586|            705586|        705824|              276105|             276105|              276105|             276105|             705819|              705819|705824|             705819|             276105|              276105|  705824|     705824|\n",
      "|   mean|1720234.2285318226|5644823.3014709735|          352912.5| 54.48551292090838|0.02442911211314536| 546137.5924904973|0.028864340574566567|0.01423733724488872|0.01665866178156156| 1.338627891853294|0.10471740823237537|                     null|378.34679856250676|2009.6624654304755|          null|             null|         null|              null|2009.1754870902662|0.007544231361257493|                    null|0.09647054562575831|1720234.2096665613|0.010326951657851897|0.20897484652577825|    null|0.07192191376469097|              null|0.023523659477372737|                null|        null|0.033675594429655384|      null|1346638.038735179|0.3100465697490731|0.007166143161348731|0.0345981051799399|5644823.2827503905|2.3501884511247466| 0.001988373988156...|0.023925680447655782|0.004122870027584976|                       null|0.04525452273591568|0.25654008438818565| 1.0349147483153183|0.012002680139801887|0.1246228789772007|             null|         null|         null|    null|        null|       null|0.002093406493906304|6.035541689866665E-4|0.06766002241355128|0.002499049274732...| 65.76270465660217|6.772785715579218E-4|       null|0.09847000434955704|0.010982985722968637|  46.12783117887526| 52.89920151476928|              null|          null|0.028959997102551566|0.04707991524963329|0.001673276470907807|0.09866174100432806|0.08144439296760217|0.001615144959260...|  null|0.16927994287487302|0.02811249343546839|0.010289563752920085|    null|       null|\n",
      "| stddev| 153436.8384400712|331558.83950197184|203753.98253776936|18.208389971606703|0.15778857077506891|32672.463343766743| 0.17065216940395278| 0.1198661506882513| 0.6084456406972599|0.7812911911104137|0.30727581706189544|                     null| 874.1262212238945| 5.646503224240572|          null|             null|         null|              null| 5.645137947191296| 0.09601340928200526|                    null| 0.2973872510272386|153436.83739180194| 0.11661021536442426|0.40893095418259934|    null|0.26232390917593607|              null| 0.15222746874833917|                null|        null| 0.18123437813149748|      null|913668.7681122712|0.6404219502925892| 0.08483497976633635|0.1886795981298894|331558.83959791745|   0.9601404320271| 0.048066533822598116| 0.15491291571619642|  0.0647808051871925|                       null| 0.2084016805626301|0.46929583362501637|0.21235533978385418| 0.10916321696271733|0.3316483444742709|             null|         null|         null|    null|        null|       null| 0.04680216631452899|0.024732398204298886| 0.2997137856041382| 0.05093352646783538|22.451321747556708|0.028283640520249852|       null|0.31581606688190167| 0.10736977776822114|   19.3167293575983|23.917417847517378|              null|          null| 0.16896387990566195|0.21274858382537873|0.040871538592661745|0.29923842328271766|0.28473914549916896|0.042387757769360004|  null|0.40693945491159045|0.16731987122070197| 0.10127271097108136|    null|       null|\n",
      "|    min|           1150346|           4793921|                 1|                15|                  0|            500100|                   0|                  0|                  0|                 0|                  0|                     East|                 0|              2000| BAY VIEW ROAD| ADDERLEY TERRACE|  Fatal Crash|                No|              2000|                   0|                    East|                  0|           1150346|                   0|                  0|    Flat|                  0|Christmas New Year|                   0|        Intersection|  Crossroads|                   0|Bright sun|              100|                 0|                   0|                 0|           4793921|                 0|                    0|                   0|                   0|           Current location|                  0|                  0|                  1|                   0|                 0|  Auckland Region|       Bridge|       Curved|   1-way|        null|End of seal|                   0|                   0|                  0|                   0|                10|                   0|       None|                  0|                   0|                 10|                 1|Ashburton District|      Give way|                   0|                  0|                   0|                  0|                  0|                   0|  Open|                  0|                  0|                   0|    Fine|      Frost|\n",
      "|    max|       2465388.404|           6190095|             99999|                95|                  4|            626801|                   5|                  4|                500|                 9|                  3|                     West|               998|              2020|  ZURICH PLACE|    stunnell raod|Serious Crash|               Yes|              2019|                   7|                    West|                  3|           2465388|                   9|                  3|    Null|                  4|   Queens Birthday|                   2|            Midblock|  Y Junction|                   3|   Unknown|           999900|                 9|                   4|                 8|           6190095|                 9|                    3|                   5|                   2|          Outdated location|                  3|                  5|                  5|                   2|                 4|West Coast Region|    Underpass|     Straight|Off road|        null|   Unsealed|                   2|                   2|                  9|                   4|                90|                   3|         On|                  6|                   5|                 90|                76|Whangarei District|       Unknown|                   4|                  2|                   1|                  3|                  5|                   3| Urban|                  6|                  4|                   2|    Snow|Strong wind|\n",
      "+-------+------------------+------------------+------------------+------------------+-------------------+------------------+--------------------+-------------------+-------------------+------------------+-------------------+-------------------------+------------------+------------------+--------------+-----------------+-------------+------------------+------------------+--------------------+------------------------+-------------------+------------------+--------------------+-------------------+--------+-------------------+------------------+--------------------+--------------------+------------+--------------------+----------+-----------------+------------------+--------------------+------------------+------------------+------------------+---------------------+--------------------+--------------------+---------------------------+-------------------+-------------------+-------------------+--------------------+------------------+-----------------+-------------+-------------+--------+------------+-----------+--------------------+--------------------+-------------------+--------------------+------------------+--------------------+-----------+-------------------+--------------------+-------------------+------------------+------------------+--------------+--------------------+-------------------+--------------------+-------------------+-------------------+--------------------+------+-------------------+-------------------+--------------------+--------+-----------+\n",
      "\n"
     ]
    }
   ],
   "source": [
    "df.describe().show()"
   ]
  },
  {
   "cell_type": "code",
   "execution_count": 10,
   "metadata": {},
   "outputs": [
    {
     "name": "stdout",
     "output_type": "stream",
     "text": [
      "root\n",
      " |-- X: string (nullable = true)\n",
      " |-- Y: string (nullable = true)\n",
      " |-- OBJECTID: string (nullable = true)\n",
      " |-- advisorySpeed: string (nullable = true)\n",
      " |-- animals: string (nullable = true)\n",
      " |-- areaUnitID: string (nullable = true)\n",
      " |-- bicycle: string (nullable = true)\n",
      " |-- bridge: string (nullable = true)\n",
      " |-- bus: string (nullable = true)\n",
      " |-- carStationWagon: string (nullable = true)\n",
      " |-- cliffBank: string (nullable = true)\n",
      " |-- crashDirectionDescription: string (nullable = true)\n",
      " |-- crashDistance: string (nullable = true)\n",
      " |-- crashFinancialYear: string (nullable = true)\n",
      " |-- crashLocation1: string (nullable = true)\n",
      " |-- crashLocation2: string (nullable = true)\n",
      " |-- crashSeverity: string (nullable = true)\n",
      " |-- crashSHDescription: string (nullable = true)\n",
      " |-- crashYear: string (nullable = true)\n",
      " |-- debris: string (nullable = true)\n",
      " |-- directionRoleDescription: string (nullable = true)\n",
      " |-- ditch: string (nullable = true)\n",
      " |-- easting: string (nullable = true)\n",
      " |-- fatalCount: string (nullable = true)\n",
      " |-- fence: string (nullable = true)\n",
      " |-- flatHill: string (nullable = true)\n",
      " |-- guardRail: string (nullable = true)\n",
      " |-- holiday: string (nullable = true)\n",
      " |-- houseOrBuilding: string (nullable = true)\n",
      " |-- intersectionMidblock: string (nullable = true)\n",
      " |-- junctionType: string (nullable = true)\n",
      " |-- kerb: string (nullable = true)\n",
      " |-- light: string (nullable = true)\n",
      " |-- meshblockId: string (nullable = true)\n",
      " |-- minorInjuryCount: string (nullable = true)\n",
      " |-- moped: string (nullable = true)\n",
      " |-- motorcycle: string (nullable = true)\n",
      " |-- northing: string (nullable = true)\n",
      " |-- NumberOfLanes: string (nullable = true)\n",
      " |-- objectThrownOrDropped: string (nullable = true)\n",
      " |-- otherObject: string (nullable = true)\n",
      " |-- otherVehicleType: string (nullable = true)\n",
      " |-- outdatedLocationDescription: string (nullable = true)\n",
      " |-- overBank: string (nullable = true)\n",
      " |-- parkedVehicle: string (nullable = true)\n",
      " |-- pedestrian: string (nullable = true)\n",
      " |-- phoneBoxEtc: string (nullable = true)\n",
      " |-- postOrPole: string (nullable = true)\n",
      " |-- region: string (nullable = true)\n",
      " |-- roadCharacter: string (nullable = true)\n",
      " |-- roadCurvature: string (nullable = true)\n",
      " |-- roadLane: string (nullable = true)\n",
      " |-- roadMarkings: string (nullable = true)\n",
      " |-- roadSurface: string (nullable = true)\n",
      " |-- roadworks: string (nullable = true)\n",
      " |-- schoolBus: string (nullable = true)\n",
      " |-- seriousInjuryCount: string (nullable = true)\n",
      " |-- slipOrFlood: string (nullable = true)\n",
      " |-- speedLimit: string (nullable = true)\n",
      " |-- strayAnimal: string (nullable = true)\n",
      " |-- streetLight: string (nullable = true)\n",
      " |-- suv: string (nullable = true)\n",
      " |-- taxi: string (nullable = true)\n",
      " |-- temporarySpeedLimit: string (nullable = true)\n",
      " |-- tlaId: string (nullable = true)\n",
      " |-- tlaName: string (nullable = true)\n",
      " |-- trafficControl: string (nullable = true)\n",
      " |-- trafficIsland: string (nullable = true)\n",
      " |-- trafficSign: string (nullable = true)\n",
      " |-- train: string (nullable = true)\n",
      " |-- tree: string (nullable = true)\n",
      " |-- truck: string (nullable = true)\n",
      " |-- unknownVehicleType: string (nullable = true)\n",
      " |-- urban: string (nullable = true)\n",
      " |-- vanOrUtility: string (nullable = true)\n",
      " |-- vehicle: string (nullable = true)\n",
      " |-- waterRiver: string (nullable = true)\n",
      " |-- weatherA: string (nullable = true)\n",
      " |-- weatherB: string (nullable = true)\n",
      "\n"
     ]
    }
   ],
   "source": [
    "df.printSchema()"
   ]
  },
  {
   "cell_type": "code",
   "execution_count": 11,
   "metadata": {},
   "outputs": [
    {
     "data": {
      "text/plain": [
       "DataFrame[X: string, Y: string, OBJECTID: string, advisorySpeed: string, animals: string, areaUnitID: string, bicycle: string, bridge: string, bus: string, carStationWagon: string, cliffBank: string, crashDirectionDescription: string, crashDistance: string, crashFinancialYear: string, crashLocation1: string, crashLocation2: string, crashSeverity: string, crashSHDescription: string, crashYear: string, debris: string, directionRoleDescription: string, ditch: string, easting: string, fatalCount: string, fence: string, flatHill: string, guardRail: string, holiday: string, houseOrBuilding: string, intersectionMidblock: string, junctionType: string, kerb: string, light: string, meshblockId: string, minorInjuryCount: string, moped: string, motorcycle: string, northing: string, NumberOfLanes: string, objectThrownOrDropped: string, otherObject: string, otherVehicleType: string, outdatedLocationDescription: string, overBank: string, parkedVehicle: string, pedestrian: string, phoneBoxEtc: string, postOrPole: string, region: string, roadCharacter: string, roadCurvature: string, roadLane: string, roadMarkings: string, roadSurface: string, roadworks: string, schoolBus: string, seriousInjuryCount: string, slipOrFlood: string, speedLimit: string, strayAnimal: string, streetLight: string, suv: string, taxi: string, temporarySpeedLimit: string, tlaId: string, tlaName: string, trafficControl: string, trafficIsland: string, trafficSign: string, train: string, tree: string, truck: string, unknownVehicleType: string, urban: string, vanOrUtility: string, vehicle: string, waterRiver: string, weatherA: string, weatherB: string]"
      ]
     },
     "execution_count": 11,
     "metadata": {},
     "output_type": "execute_result"
    }
   ],
   "source": [
    "df.na.drop()"
   ]
  },
  {
   "cell_type": "code",
   "execution_count": 12,
   "metadata": {},
   "outputs": [
    {
     "data": {
      "text/plain": [
       "705824"
      ]
     },
     "execution_count": 12,
     "metadata": {},
     "output_type": "execute_result"
    }
   ],
   "source": [
    "df.count()"
   ]
  },
  {
   "cell_type": "code",
   "execution_count": 13,
   "metadata": {},
   "outputs": [
    {
     "data": {
      "text/plain": [
       "0"
      ]
     },
     "execution_count": 13,
     "metadata": {},
     "output_type": "execute_result"
    }
   ],
   "source": [
    "df.na.drop().count()"
   ]
  },
  {
   "cell_type": "code",
   "execution_count": null,
   "metadata": {},
   "outputs": [],
   "source": []
  }
 ],
 "metadata": {
  "kernelspec": {
   "display_name": "Python 3",
   "language": "python",
   "name": "python3"
  },
  "language_info": {
   "codemirror_mode": {
    "name": "ipython",
    "version": 3
   },
   "file_extension": ".py",
   "mimetype": "text/x-python",
   "name": "python",
   "nbconvert_exporter": "python",
   "pygments_lexer": "ipython3",
   "version": "3.5.2"
  }
 },
 "nbformat": 4,
 "nbformat_minor": 2
}
